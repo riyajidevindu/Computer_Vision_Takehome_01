{
 "cells": [
  {
   "cell_type": "code",
   "execution_count": 1,
   "id": "4805f6a1",
   "metadata": {},
   "outputs": [],
   "source": [
    "import cv2\n",
    "import os\n",
    "import numpy as np\n",
    "import matplotlib.pyplot as plt"
   ]
  },
  {
   "cell_type": "code",
   "execution_count": 2,
   "id": "bc568dbc",
   "metadata": {},
   "outputs": [],
   "source": [
    "# Function to reduce intensity levels\n",
    "def reduce_intensity_levels(image, levels):\n",
    "    assert (levels & (levels - 1) == 0) and levels <= 256, \"Levels must be power of 2 and <= 256\"\n",
    "    factor = 256 // levels\n",
    "    reduced_img = (image // factor) * factor\n",
    "    return reduced_img"
   ]
  },
  {
   "cell_type": "code",
   "execution_count": null,
   "id": "194f9524",
   "metadata": {},
   "outputs": [],
   "source": [
    "img_path = os.path.join(\"..\", \"data\", \"task_01\", \"sample_image.jpg\")\n",
    "original_img = cv2.imread(img_path, cv2.IMREAD_GRAYSCALE)\n",
    "\n",
    "# User input for intensity levels\n",
    "desired_levels = 4  # Change to 2, 4, 8, 16, 32, 64, 128..."
   ]
  },
  {
   "cell_type": "code",
   "execution_count": null,
   "id": "a69e28b4",
   "metadata": {},
   "outputs": [],
   "source": [
    "# Process image\n",
    "reduced_img = reduce_intensity_levels(original_img, desired_levels)"
   ]
  },
  {
   "cell_type": "code",
   "execution_count": null,
   "id": "7741c948",
   "metadata": {},
   "outputs": [],
   "source": [
    "output_path = os.path.join(\"..\", \"results\", \"task_01\", f\"reduced_sample_{desired_levels}_levels.png\")\n",
    "cv2.imwrite(output_path, reduced_img)"
   ]
  },
  {
   "cell_type": "code",
   "execution_count": null,
   "id": "fa1978fc",
   "metadata": {},
   "outputs": [],
   "source": [
    "# Display the results\n",
    "plt.figure(figsize=(10,5))\n",
    "plt.subplot(1,2,1)\n",
    "plt.title(\"Original Image\")\n",
    "plt.imshow(original_img, cmap='gray')\n",
    "plt.axis('off')\n",
    "\n",
    "plt.subplot(1,2,2)\n",
    "plt.title(f\"Reduced to {desired_levels} Levels\")\n",
    "plt.imshow(reduced_img, cmap='gray')\n",
    "plt.axis('off')\n",
    "\n",
    "plt.tight_layout()\n",
    "plt.show()"
   ]
  }
 ],
 "metadata": {
  "kernelspec": {
   "display_name": "image_env",
   "language": "python",
   "name": "python3"
  },
  "language_info": {
   "codemirror_mode": {
    "name": "ipython",
    "version": 3
   },
   "file_extension": ".py",
   "mimetype": "text/x-python",
   "name": "python",
   "nbconvert_exporter": "python",
   "pygments_lexer": "ipython3",
   "version": "3.11.9"
  }
 },
 "nbformat": 4,
 "nbformat_minor": 5
}
