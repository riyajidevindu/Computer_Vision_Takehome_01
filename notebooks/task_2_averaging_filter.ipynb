{
 "cells": [
  {
   "cell_type": "code",
   "execution_count": 1,
   "id": "17004efc",
   "metadata": {},
   "outputs": [],
   "source": [
    "import cv2\n",
    "import numpy as np\n",
    "import matplotlib.pyplot as plt\n",
    "import os"
   ]
  },
  {
   "cell_type": "code",
   "execution_count": null,
   "id": "a0421f92",
   "metadata": {},
   "outputs": [],
   "source": [
    "# Load image in grayscale\n",
    "img_path = os.path.join(\"..\", \"data\", \"task_02\", \"sample_image.jpg\")\n",
    "img = cv2.imread(img_path, cv2.IMREAD_GRAYSCALE)\n",
    "\n",
    "if img is None:\n",
    "    raise FileNotFoundError(f\"Image not found at {img_path}\")\n"
   ]
  },
  {
   "cell_type": "code",
   "execution_count": null,
   "id": "0a0ec19c",
   "metadata": {},
   "outputs": [],
   "source": [
    "# Function to apply averaging filter\n",
    "def apply_mean_filter(image, kernel_size):\n",
    "    return cv2.blur(image, (kernel_size, kernel_size))"
   ]
  },
  {
   "cell_type": "code",
   "execution_count": null,
   "id": "bdbcd956",
   "metadata": {},
   "outputs": [],
   "source": [
    "# Apply filters\n",
    "img_3x3 = apply_mean_filter(img, 3)\n",
    "img_10x10 = apply_mean_filter(img, 10)\n",
    "img_20x20 = apply_mean_filter(img, 20)"
   ]
  },
  {
   "cell_type": "code",
   "execution_count": null,
   "id": "a3308b6a",
   "metadata": {},
   "outputs": [],
   "source": [
    "# Display the results\n",
    "titles = ['Original', '3x3 Average', '10x10 Average', '20x20 Average']\n",
    "images = [img, img_3x3, img_10x10, img_20x20]\n",
    "\n",
    "plt.figure(figsize=(16, 4))\n",
    "for i in range(4):\n",
    "    plt.subplot(1, 4, i+1)\n",
    "    plt.imshow(images[i], cmap='gray')\n",
    "    plt.title(titles[i])\n",
    "    plt.axis('off')\n",
    "plt.tight_layout()\n",
    "plt.show()"
   ]
  },
  {
   "cell_type": "code",
   "execution_count": null,
   "id": "837de162",
   "metadata": {},
   "outputs": [],
   "source": [
    "#Save outputs to results\n",
    "result_dir = os.path.join(\"..\", \"results\", \"task_02\")\n",
    "os.makedirs(result_dir, exist_ok=True)\n",
    "\n",
    "cv2.imwrite(os.path.join(result_dir, \"avg_3x3.jpg\"), img_3x3)\n",
    "cv2.imwrite(os.path.join(result_dir, \"avg_10x10.jpg\"), img_10x10)\n",
    "cv2.imwrite(os.path.join(result_dir, \"avg_20x20.jpg\"), img_20x20)"
   ]
  }
 ],
 "metadata": {
  "kernelspec": {
   "display_name": "image_env",
   "language": "python",
   "name": "python3"
  },
  "language_info": {
   "codemirror_mode": {
    "name": "ipython",
    "version": 3
   },
   "file_extension": ".py",
   "mimetype": "text/x-python",
   "name": "python",
   "nbconvert_exporter": "python",
   "pygments_lexer": "ipython3",
   "version": "3.11.9"
  }
 },
 "nbformat": 4,
 "nbformat_minor": 5
}
